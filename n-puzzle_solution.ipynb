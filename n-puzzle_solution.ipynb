{
 "cells": [
  {
   "cell_type": "markdown",
   "metadata": {},
   "source": [
    "## N-puzzle : problem statement"
   ]
  },
  {
   "cell_type": "markdown",
   "metadata": {},
   "source": [
    "The n-puzzle is a classic problem often used to model algorithms that involve heuristics. Two commonly used heuristics for this problem are:  \n",
    "\n",
    "- **Misplaced Tiles**: Counting the number of tiles that are not in their correct position in the goal configuration.  \n",
    "- **Manhattan Distance**: Calculating the sum of the taxicab distances (vertical and horizontal moves) required for each tile to reach its target position in the goal configuration.  \n",
    "\n",
    "Both heuristics are admissible, meaning they never overestimate the actual cost to solve the puzzle.\n"
   ]
  },
  {
   "cell_type": "code",
   "execution_count": 1,
   "metadata": {},
   "outputs": [
    {
     "name": "stderr",
     "output_type": "stream",
     "text": [
      "/Users/maot/projects/computational_intelligence/lab3/venv/lib/python3.10/site-packages/tqdm/auto.py:21: TqdmWarning: IProgress not found. Please update jupyter and ipywidgets. See https://ipywidgets.readthedocs.io/en/stable/user_install.html\n",
      "  from .autonotebook import tqdm as notebook_tqdm\n"
     ]
    }
   ],
   "source": [
    "import numpy as np\n",
    "from collections import namedtuple\n",
    "from random import choice\n",
    "from tqdm.auto import tqdm\n",
    "from icecream import ic\n",
    "from dataclasses import dataclass"
   ]
  },
  {
   "cell_type": "code",
   "execution_count": 2,
   "metadata": {},
   "outputs": [],
   "source": [
    "PUZZLE_DIM = 3\n",
    "action = namedtuple('Action', ['pos1', 'pos2'])"
   ]
  },
  {
   "cell_type": "code",
   "execution_count": 16,
   "metadata": {},
   "outputs": [],
   "source": [
    "def action_available(state: np.ndarray) -> list['Action']:\n",
    "    x, y = [int(_[0]) for _ in np.where(state == 0)]\n",
    "    actions = list()\n",
    "    if x > 0:\n",
    "        actions.append(action((x, y), (x - 1, y)))\n",
    "    if x < PUZZLE_DIM - 1:\n",
    "        actions.append(action((x, y), (x + 1, y)))\n",
    "    if y > 0:\n",
    "        actions.append(action((x, y), (x, y - 1)))\n",
    "    if y < PUZZLE_DIM - 1:\n",
    "        actions.append(action((x, y), (x, y + 1)))\n",
    "    return actions\n",
    "\n",
    "def do_action(state: np.ndarray, action: 'Action') -> np.ndarray:\n",
    "    new_state = state.copy()\n",
    "    new_state[action.pos1], new_state[action.pos2] = new_state[action.pos2], new_state[action.pos1]\n",
    "    return new_state\n",
    "\n",
    "def goal_test(state: np.ndarray) -> bool:\n",
    "    c = 1\n",
    "    for i in state:\n",
    "        for j in i:\n",
    "            if j != c:\n",
    "                return False\n",
    "            c += 1\n",
    "            if c == len(state)**2:\n",
    "                c = 0\n",
    "    return True\n",
    "\n",
    "def state_listed(state: np.ndarray, frontier: list[np.ndarray]) -> int:\n",
    "    for i, el in enumerate(frontier):\n",
    "        c = 0\n",
    "        for x in range(PUZZLE_DIM):\n",
    "            for y in range(PUZZLE_DIM):\n",
    "                if state[x][y] == el[x][y]:\n",
    "                    c += 1\n",
    "        if c == PUZZLE_DIM**2:\n",
    "            return i\n",
    "    return -1\n"
   ]
  },
  {
   "cell_type": "code",
   "execution_count": 17,
   "metadata": {},
   "outputs": [
    {
     "name": "stderr",
     "output_type": "stream",
     "text": [
      "Randomizing: 100%|██████████| 100000/100000 [00:00<00:00, 317018.76it/s]\n"
     ]
    },
    {
     "data": {
      "text/plain": [
       "array([[3, 4, 7],\n",
       "       [8, 1, 2],\n",
       "       [0, 5, 6]])"
      ]
     },
     "execution_count": 17,
     "metadata": {},
     "output_type": "execute_result"
    }
   ],
   "source": [
    "RANDOMIZE_STEPS = 100_000\n",
    "initial_state = np.array([i for i in range(1, PUZZLE_DIM**2)] + [0]).reshape((PUZZLE_DIM, PUZZLE_DIM))\n",
    "for r in tqdm(range(RANDOMIZE_STEPS), desc='Randomizing'):\n",
    "    #scelgo randomicamente un azione da quelle possibili e la effettuo\n",
    "    initial_state = do_action(initial_state, choice(action_available(initial_state)))\n",
    "initial_state"
   ]
  },
  {
   "cell_type": "markdown",
   "metadata": {},
   "source": [
    "## Depth-First Search approach\n",
    "\n",
    "\n",
    "Depth-First Search (DFS) is a fundamental uninformed search algorithm that explores as far as possible along each branch before backtracking. It is particularly suited for problems where the solution lies deep in the search tree.\n",
    "\n",
    "- **Exploration Strategy**: DFS dives deep into a branch until it reaches a goal state or a dead end, at which point it backtracks to explore other branches.  \n",
    "- **Data Structure**: DFS typically uses a stack (explicit or via recursion) to keep track of the nodes to visit.  \n",
    "\n",
    "## Steps in the DFS Algorithm\n",
    "\n",
    "1. **Initialization**: Start with the initial state and add it to a stack.  \n",
    "2. **Expand Nodes**: Pop a node from the stack and mark it as visited.  \n",
    "3. **Goal Check**: If the current node is the goal state, terminate the search.  \n",
    "4. **Add Neighbors**: Push all unvisited neighbors of the current node onto the stack.  \n",
    "5. **Repeat**: Continue until the goal is found or the stack is empty (indicating no solution exists).  \n",
    "\n",
    "## Key Features\n",
    "\n",
    "- **Memory Usage**: DFS uses less memory compared to breadth-first search (BFS) because it only stores the current branch in the stack.  \n",
    "- **Non-Optimal Solutions**: DFS does not guarantee the shortest or optimal path to the goal, especially in unweighted graphs.  \n",
    "- **Completeness**: In finite graphs, DFS will find a solution if one exists, but it may fail in infinite graphs if it gets stuck exploring an infinitely deep branch.  \n",
    "- **Variants**: Iterative Deepening Depth-First Search (IDDFS) combines the benefits of DFS and BFS to ensure completeness while limiting memory usage.\n"
   ]
  },
  {
   "cell_type": "code",
   "execution_count": 22,
   "metadata": {},
   "outputs": [
    {
     "name": "stderr",
     "output_type": "stream",
     "text": [
      "100%|██████████| 10000/10000 [08:19<00:00, 20.01it/s]\n",
      "ic| goal_test(state): False\n",
      "    state: array([[8, 3, 0],\n",
      "                  [5, 1, 7],\n",
      "                  [2, 6, 4]])\n",
      "    efficiency: 0.5499575911789653\n"
     ]
    }
   ],
   "source": [
    "cost = 0\n",
    "frontier = list()\n",
    "visited_state = list()\n",
    "cost_list = list()\n",
    "state = initial_state\n",
    "for step in tqdm(range(10000)):\n",
    "    visited_state.append(state)\n",
    "    if goal_test(state):\n",
    "        break\n",
    "    for a in action_available(state):\n",
    "        new_state = do_action(state, a)\n",
    "        new_cost = cost + 1\n",
    "        if state_listed(new_state, visited_state) == -1 and state_listed(new_state, frontier) == -1:\n",
    "            cost_list.append(new_cost)\n",
    "            frontier.append(new_state)\n",
    "    state = frontier.pop()\n",
    "    cost = cost_list.pop()\n",
    "efficiency = cost / (len(frontier) + len(visited_state))\n",
    "ic(goal_test(state), state, efficiency)\n",
    "None"
   ]
  },
  {
   "cell_type": "markdown",
   "metadata": {},
   "source": [
    "## Results\n",
    "High memory consumption poses a significant challenge, and solutions cannot always be found if the number of iterations is insufficient.  \n",
    "\n",
    "- **8-puzzle**: Requires excessive time (> 15 minutes)  \n",
    "- **15-puzzle**: Computationally infeasible due to excessive time requirements  \n"
   ]
  },
  {
   "cell_type": "markdown",
   "metadata": {},
   "source": [
    "## A*"
   ]
  },
  {
   "cell_type": "markdown",
   "metadata": {},
   "source": [
    "A* is a widely-used informed search algorithm that combines two factors to prioritize the most promising states for exploration:\n",
    "\n",
    "- **g-score**: The actual cost of reaching the current state from the start state.  \n",
    "- **h-score**: A heuristic estimate of the remaining cost to reach the goal state. In this case, the heuristic is the **Manhattan Distance**, which sums the vertical and horizontal distances between each tile's current position and its target position.  \n",
    "- **f-score**: The total estimated cost, calculated as \\( f = g + h \\). States with the lowest f-score are prioritized for expansion.  \n",
    "\n",
    "### Steps in the A* Algorithm\n",
    "\n",
    "1. **Initialization**: Begin with the initial scrambled state.  \n",
    "2. **Priority Queue**: Use a priority queue (min-heap) to manage states, with the f-score as the priority.  \n",
    "3. **Expand States**: Remove the state with the lowest f-score from the queue, compute its neighbors, and add them to the queue.  \n",
    "4. **Goal Check**: Repeat the process until the goal state is reached or no solution exists.  \n",
    "\n",
    "### Key Features\n",
    "\n",
    "- **Optimal Solution**: A* guarantees an optimal solution with the fewest moves, provided the heuristic is admissible (never overestimates the true cost).  \n",
    "- **Memory Usage**: A* is memory-intensive as it stores all explored states and their associated f-scores.\n"
   ]
  },
  {
   "cell_type": "code",
   "execution_count": null,
   "metadata": {},
   "outputs": [],
   "source": [
    "@dataclass\n",
    "class Node:\n",
    "    state: np.ndarray\n",
    "    cost: int = 0\n",
    "    quality: int = 0\n",
    "\n",
    "def stateInNodeList(state: np.ndarray, frontier: list[Node]) -> int:\n",
    "    for i, el in enumerate(frontier):\n",
    "        c = 0\n",
    "        for x in range(PUZZLE_DIM):\n",
    "            for y in range(PUZZLE_DIM):\n",
    "                if state[x][y] == el.state[x][y]:\n",
    "                    c += 1\n",
    "        if c == PUZZLE_DIM**2:\n",
    "            return i\n",
    "    return -1\n",
    "\n",
    "\n",
    "def manhattan_dist(state: np.ndarray) -> int:\n",
    "    counter = 0\n",
    "    c = 1\n",
    "    for x in range(0, PUZZLE_DIM):\n",
    "        for y in range(0, PUZZLE_DIM):\n",
    "            if state[x][y] != c and state[x][y] != 0:\n",
    "                counter += abs(x - ((state[x][y] - 1) // PUZZLE_DIM)) + abs(y - ((state[x][y] - 1) % PUZZLE_DIM))\n",
    "            c += 1\n",
    "    return counter\n",
    "\n",
    "def linear_conflict(state: np.ndarray) -> int:\n",
    "        conflict = 0\n",
    "        size = len(state)\n",
    "        # Row conflicts\n",
    "        for row in range(size):\n",
    "            max_val = -1\n",
    "            for col in range(size):\n",
    "                value = state[row][col]\n",
    "                if value != 0 and (value - 1) // size == row:\n",
    "                    if value > max_val:\n",
    "                        max_val = value\n",
    "                    else:\n",
    "                        conflict += 2\n",
    "        # Column conflicts\n",
    "        for col in range(size):\n",
    "            max_val = -1\n",
    "            for row in range(size):\n",
    "                value = state[row][col]\n",
    "                if value != 0 and (value - 1) % size == col:\n",
    "                    if value > max_val:\n",
    "                        max_val = value\n",
    "                    else:\n",
    "                        conflict += 2\n",
    "        return conflict"
   ]
  },
  {
   "cell_type": "code",
   "execution_count": null,
   "metadata": {},
   "outputs": [
    {
     "name": "stderr",
     "output_type": "stream",
     "text": [
      "  4%|▍         | 385/10000 [00:00<00:15, 625.96it/s] \n",
      "ic| initial_state: array([[3, 4, 7],\n",
      "                          [8, 1, 2],\n",
      "                          [0, 5, 6]])\n",
      "    ManhattanDistance(initial_state) + LinearConflict(initial_state): np.int64(16)\n",
      "    goal_test(state.state): True\n",
      "    state: Node(state=array([[1, 2, 3],\n",
      "                  [4, 5, 6],\n",
      "                  [7, 8, 0]]),\n",
      "                cost=22,\n",
      "                quality=22)\n",
      "    efficiency: 0.03542673107890499\n"
     ]
    }
   ],
   "source": [
    "frontier = list()\n",
    "visited_state = list()\n",
    "state = Node(initial_state, 1 + manhattan_dist(initial_state) + linear_conflict(initial_state), 0)\n",
    "for step in tqdm(range(10000)):\n",
    "    visited_state.append(state)\n",
    "    if state.cost == state.quality:\n",
    "        break\n",
    "    for a in action_available(state.state):\n",
    "        new_state = do_action(state.state, a)\n",
    "        if stateInNodeList(new_state, visited_state) == -1 and stateInNodeList(new_state, frontier) == -1:\n",
    "            frontier.append(Node(new_state, state.quality + 1 + manhattan_dist(new_state) + linear_conflict(new_state), state.quality + 1))\n",
    "    frontier.sort(key=lambda i: i.cost, reverse = False)\n",
    "    state = frontier.pop(0)\n",
    "efficiency = state.cost / (len(frontier) + len(visited_state))\n",
    "ic(initial_state, manhattan_dist(initial_state) + linear_conflict(initial_state), goal_test(state.state), state, efficiency)\n",
    "None"
   ]
  },
  {
   "cell_type": "markdown",
   "metadata": {},
   "source": [
    "## Results\n",
    "For puzzles with a low \\( N \\), solutions can typically be found within a reasonable number of iterations. However, as the puzzle's size increases, finding a solution becomes significantly more challenging, and may not always be feasible.  \n",
    "\n",
    "### Performance Comparison of Cost Functions\n",
    "\n",
    "- **Hamming Distance**:  \n",
    "  - **8-puzzle**: Time = 7m 9s, Quality = 22  \n",
    "  - **15-puzzle**: Computationally infeasible due to excessive time requirements  \n",
    "\n",
    "- **Manhattan Distance**:  \n",
    "  - **8-puzzle**: Time = 2.8s, Quality = 22  \n",
    "  - **15-puzzle**: Computationally infeasible due to excessive time requirements  \n",
    "\n",
    "- **Manhattan Distance + Linear Conflict**:  \n",
    "  - **8-puzzle**: Time = 1.4s, Quality = 22  \n",
    "  - **15-puzzle**: Computationally infeasible due to excessive time requirements  \n"
   ]
  },
  {
   "cell_type": "markdown",
   "metadata": {},
   "source": []
  }
 ],
 "metadata": {
  "kernelspec": {
   "display_name": "venv",
   "language": "python",
   "name": "python3"
  },
  "language_info": {
   "codemirror_mode": {
    "name": "ipython",
    "version": 3
   },
   "file_extension": ".py",
   "mimetype": "text/x-python",
   "name": "python",
   "nbconvert_exporter": "python",
   "pygments_lexer": "ipython3",
   "version": "3.10.15"
  }
 },
 "nbformat": 4,
 "nbformat_minor": 2
}
